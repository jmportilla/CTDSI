{
 "cells": [
  {
   "cell_type": "markdown",
   "metadata": {},
   "source": [
    "There is a new ride sharing company called Lyber. The typical new user of Lyber has a 25%, 25%, and 50% chance of 􏰘􏰎􏰒􏰀􏰑􏰉􏰄􏰇􏰆􏰃􏰥􏰟􏰃􏰦􏰟􏰃􏰒􏰎􏰃􏰧􏰃􏰒􏰌􏰅􏰘􏰎􏰄􏰇􏰆􏰟􏰃􏰎􏰍􏰅􏰘􏰍􏰉􏰂􏰄􏰛􏰍􏰊􏰋􏰨􏰃􏰩􏰁􏰉􏰏􏰃􏰒􏰓referring 0,1, and 2 new customers, respectively. These new customers also have the same probabilities of referring further new customers. A new user has just used Lyber, what is the probability that eventually no new customers are referred as a result of this individual new user? In other words, what is the probability that the referral chain \"dies off\"?"
   ]
  },
  {
   "cell_type": "markdown",
   "metadata": {},
   "source": [
    "In any 15-minute interval, there is a 20% probability that you will see at least one Lyber car pass by. What is the probability that you see at least one Lyber car in the period of an hour?"
   ]
  },
  {
   "cell_type": "markdown",
   "metadata": {},
   "source": [
    "How can you generate a random number between 1 and 7 with only one die?"
   ]
  },
  {
   "cell_type": "markdown",
   "metadata": {},
   "source": [
    "You and your friend are trying to decide between 2 movies to see, so you decide to flip a coin. Your friend hands you a coin that is unfairly weighted to come up heads more often than tails, however he has forgotten the weight. How can you achieve a fair coin toss?"
   ]
  },
  {
   "cell_type": "markdown",
   "metadata": {},
   "source": [
    "A young couple informs you that they have 2 children, and at least one of them is a boy. What is the probability that they have 2 boys?"
   ]
  },
  {
   "cell_type": "markdown",
   "metadata": {},
   "source": [
    "Another couple really wants to have a boy, so they decide they will keep having children and stop once they have a boy. What is the expected number of children they will have? What is the expected gender ratio of the children that are born?"
   ]
  },
  {
   "cell_type": "markdown",
   "metadata": {},
   "source": [
    "You've just started a new job as Product Coordinator at a new social media comapany called MyFace. You have 12 people on your team. How many ways can you split these 12 people into 3 teams of 4?"
   ]
  },
  {
   "cell_type": "markdown",
   "metadata": {},
   "source": [
    "You have a jar of 1000 coins. One of them has heads on both sides. You randomly select a coin from the jar and lfip it ten times. You get 10 heads in a row, what is the probability you chose the 2-headed coin?"
   ]
  },
  {
   "cell_type": "code",
   "execution_count": null,
   "metadata": {
    "collapsed": true
   },
   "outputs": [],
   "source": []
  }
 ],
 "metadata": {
  "kernelspec": {
   "display_name": "Python 2",
   "language": "python",
   "name": "python2"
  },
  "language_info": {
   "codemirror_mode": {
    "name": "ipython",
    "version": 2
   },
   "file_extension": ".py",
   "mimetype": "text/x-python",
   "name": "python",
   "nbconvert_exporter": "python",
   "pygments_lexer": "ipython2",
   "version": "2.7.10"
  }
 },
 "nbformat": 4,
 "nbformat_minor": 0
}

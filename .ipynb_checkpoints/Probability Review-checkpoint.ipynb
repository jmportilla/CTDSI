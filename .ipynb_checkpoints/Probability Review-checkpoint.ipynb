{
 "cells": [
  {
   "cell_type": "markdown",
   "metadata": {},
   "source": [
    "#Bayes Theorem\n",
    "\n",
    "$$ P(A|B) = \\frac{P(B|A)P(A)}{P(B)} $$\n",
    "\n",
    "Another form:\n",
    "\n",
    "$$ P(A|B) = \\frac{P(B|A)P(A)}{P(B|A)P(A) +  P(A|B)P(B)} $$"
   ]
  },
  {
   "cell_type": "markdown",
   "metadata": {},
   "source": [
    "# Permutations\n",
    "# Combinations\n",
    "# Expectation\n",
    "# Variance\n",
    "# Covariance\n",
    "# Frequentist vs Bayesian\n",
    "# Central Limit Theorem\n",
    "# Hypothesis Testing\n",
    "## Left, Right, two-sided\n",
    "# Type I and Type II Errors\n",
    "# Comparison of Proportions\n",
    "# Multiple Comparison (Bonferroni Correction)\n",
    "# Bayesian Hypothesis Testing\n",
    "# Statistical Distribution (Table)\n",
    "# Bernoulli\n",
    "# Binomial\n",
    "# Geometric\n",
    "# Poisson\n",
    "# Exponential\n",
    "# Gaussian (Normal)\n",
    "\n",
    "\n",
    "\n"
   ]
  },
  {
   "cell_type": "code",
   "execution_count": null,
   "metadata": {
    "collapsed": true
   },
   "outputs": [],
   "source": []
  }
 ],
 "metadata": {
  "kernelspec": {
   "display_name": "Python 2",
   "language": "python",
   "name": "python2"
  },
  "language_info": {
   "codemirror_mode": {
    "name": "ipython",
    "version": 2
   },
   "file_extension": ".py",
   "mimetype": "text/x-python",
   "name": "python",
   "nbconvert_exporter": "python",
   "pygments_lexer": "ipython2",
   "version": "2.7.10"
  }
 },
 "nbformat": 4,
 "nbformat_minor": 0
}
